{
 "cells": [
  {
   "metadata": {
    "ExecuteTime": {
     "end_time": "2024-12-10T13:47:10.117900Z",
     "start_time": "2024-12-10T13:47:09.977337Z"
    }
   },
   "cell_type": "code",
   "source": [
    "%load_ext autoreload\n",
    "%autoreload 2"
   ],
   "id": "fb6f71e8f0c34500",
   "outputs": [],
   "execution_count": 7
  },
  {
   "cell_type": "code",
   "id": "initial_id",
   "metadata": {
    "collapsed": true,
    "ExecuteTime": {
     "end_time": "2024-12-10T14:10:52.569991Z",
     "start_time": "2024-12-10T14:10:52.515873Z"
    }
   },
   "source": [
    "import numpy as np\n",
    "from code.pca import PCA\n",
    "\n",
    "# Create a sample dataset\n",
    "X = np.array([[2.5, 2.4],\n",
    "              [0.5, 0.7],\n",
    "              [2.2, 2.9],\n",
    "              [1.9, 2.2],\n",
    "              [3.1, 3.0],\n",
    "              [2.3, 2.7],\n",
    "              [2, 1.6],\n",
    "              [1, 1.1],\n",
    "              [1.5, 1.6],\n",
    "              [1.1, 0.9]])\n",
    "\n",
    "# Instantiate and apply PCA\n",
    "pca = PCA()\n",
    "X_transformed = pca.reduce_dim(X,variability_threshold=0.99)\n",
    "\n",
    "print(\"Principal Components:\")\n",
    "for c in pca.components.T:\n",
    "    print(f\"{ c}\")\n",
    "print(\"Principal Components Eigenvalues:\\n\", pca.eigenvalues)\n",
    "print(\"Principal Components Explained Variance:\\n\", pca.explained_variance)\n",
    "print(\"Transformed Data:\\n\", X_transformed)"
   ],
   "outputs": [
    {
     "name": "stdout",
     "output_type": "stream",
     "text": [
      "Principal Components:\n",
      "[0.6778734  0.73517866]\n",
      "[-0.73517866  0.6778734 ]\n",
      "Principal Components Eigenvalues:\n",
      " [1.28402771 0.0490834 ]\n",
      "Principal Components Explained Variance:\n",
      " [0.96318131 0.03681869]\n",
      "Transformed Data:\n",
      " [[ 0.82797019 -0.17511531]\n",
      " [-1.77758033  0.14285723]\n",
      " [ 0.99219749  0.38437499]\n",
      " [ 0.27421042  0.13041721]\n",
      " [ 1.67580142 -0.20949846]\n",
      " [ 0.9129491   0.17528244]\n",
      " [-0.09910944 -0.3498247 ]\n",
      " [-1.14457216  0.04641726]\n",
      " [-0.43804614  0.01776463]\n",
      " [-1.22382056 -0.16267529]]\n"
     ]
    }
   ],
   "execution_count": 42
  }
 ],
 "metadata": {
  "kernelspec": {
   "display_name": "Python 3",
   "language": "python",
   "name": "python3"
  },
  "language_info": {
   "codemirror_mode": {
    "name": "ipython",
    "version": 2
   },
   "file_extension": ".py",
   "mimetype": "text/x-python",
   "name": "python",
   "nbconvert_exporter": "python",
   "pygments_lexer": "ipython2",
   "version": "2.7.6"
  }
 },
 "nbformat": 4,
 "nbformat_minor": 5
}
