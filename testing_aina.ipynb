{
 "cells": [
  {
   "metadata": {},
   "cell_type": "markdown",
   "source": "Using sklearn's kernel PCA to reduce dimensionality ",
   "id": "fb6f553635d6c898"
  },
  {
   "cell_type": "code",
   "id": "initial_id",
   "metadata": {
    "collapsed": true,
    "ExecuteTime": {
     "end_time": "2024-12-22T20:36:31.639701Z",
     "start_time": "2024-12-22T20:36:31.591807Z"
    }
   },
   "source": [
    "%load_ext autoreload\n",
    "%autoreload 2"
   ],
   "outputs": [],
   "execution_count": 1
  },
  {
   "metadata": {
    "ExecuteTime": {
     "end_time": "2024-12-22T20:36:33.275049Z",
     "start_time": "2024-12-22T20:36:33.235382Z"
    }
   },
   "cell_type": "code",
   "source": "%cd code",
   "id": "9d9c5e72c7f78f7a",
   "outputs": [
    {
     "name": "stdout",
     "output_type": "stream",
     "text": [
      "C:\\Users\\ainal\\OneDrive\\Escritorio\\IML\\Dimensionality-Reduction-and-Visualization\\code\n"
     ]
    }
   ],
   "execution_count": 2
  },
  {
   "metadata": {
    "ExecuteTime": {
     "end_time": "2024-12-22T20:36:37.548541Z",
     "start_time": "2024-12-22T20:36:34.828766Z"
    }
   },
   "cell_type": "code",
   "source": [
    "import pandas as pd \n",
    "import numpy as np\n",
    "from sklearn.decomposition import KernelPCA"
   ],
   "id": "a0ca12a8fc5b2c55",
   "outputs": [],
   "execution_count": 3
  },
  {
   "metadata": {
    "ExecuteTime": {
     "end_time": "2024-12-22T20:36:42.278557Z",
     "start_time": "2024-12-22T20:36:42.162664Z"
    }
   },
   "cell_type": "code",
   "source": "sick = pd.read_csv('../datasets_processed/sick.csv')",
   "id": "e6e21a72e3f01120",
   "outputs": [],
   "execution_count": 4
  },
  {
   "metadata": {
    "ExecuteTime": {
     "end_time": "2024-12-22T20:36:44.520788Z",
     "start_time": "2024-12-22T20:36:44.436463Z"
    }
   },
   "cell_type": "code",
   "source": [
    "sick_X = np.array(sick[sick.columns[:-1]])\n",
    "sick_y = np.array(sick[sick.columns[-1]])"
   ],
   "id": "1e4b316c4ef8d45",
   "outputs": [],
   "execution_count": 5
  },
  {
   "metadata": {
    "ExecuteTime": {
     "end_time": "2024-12-22T20:36:45.931833Z",
     "start_time": "2024-12-22T20:36:45.837010Z"
    }
   },
   "cell_type": "code",
   "source": [
    "vowel = pd.read_csv('../datasets_processed/vowel.csv')\n",
    "vowel_X = np.array(vowel[vowel.columns[:-1]])\n",
    "vowel_y = np.array(vowel[vowel.columns[-1]])"
   ],
   "id": "9eee12430dbde4a3",
   "outputs": [],
   "execution_count": 6
  },
  {
   "metadata": {},
   "cell_type": "code",
   "outputs": [],
   "execution_count": null,
   "source": [
    "from sklearn.decomposition import KernelPCA\n",
    "from sklearn.cluster import OPTICS\n",
    "from global_kmeans import run_global_kmeans\n",
    "from sklearn.preprocessing import MinMaxScaler\n",
    "\n",
    "def kernel_pca_clustering(dataset, kernel='linear', n_components=2, max_clusters_gkmeans=12, min_samples_optics=15):\n",
    "  \"\"\"\n",
    "  Performs Kernel PCA, Global K-means, and OPTICS clustering.\n",
    "\n",
    "  Args:\n",
    "    dataset: The input dataset.\n",
    "    kernel: The kernel to use for Kernel PCA (default: 'linear').\n",
    "    n_components: The number of components to keep in Kernel PCA (default: 2).\n",
    "    max_clusters_gkmeans: Maximum number of clusters for Global K-means.\n",
    "    min_samples_optics: Minimum samples for OPTICS clustering.\n",
    "    xi: Determines the minimum steepness on the reachability plot for OPTICS clustering.\n",
    "    min_cluster_size: Minimum cluster size for OPTICS clustering.\n",
    "\n",
    "\n",
    "  Returns:\n",
    "    A tuple containing:\n",
    "      - The dataset transformed by Kernel PCA.\n",
    "      - Cluster labels from Global K-means.\n",
    "      - Cluster labels from OPTICS.\n",
    "  \"\"\"\n",
    "\n",
    "  # 1. Kernel PCA\n",
    "  kpca = KernelPCA(kernel=kernel, n_components=n_components)\n",
    "  dataset_kpca = kpca.fit_transform(dataset)\n",
    "  scaler = MinMaxScaler()\n",
    "  dataset_kpca_normalized = scaler.fit_transform(dataset_kpca)\n",
    "  # 2. Global K-means\n",
    "  clusters_gkmeans, labels_gkmeans = run_global_kmeans(dataset_kpca_normalized, max_clusters=max_clusters_gkmeans)  \n",
    "\n",
    "  # 3. OPTICS\n",
    "  optics = OPTICS(min_samples=min_samples_optics)\n",
    "  labels_optics = optics.fit_predict(dataset_kpca_normalized)\n",
    "\n",
    "  return dataset_kpca, labels_gkmeans, labels_optics"
   ],
   "id": "a247d0537f8ca8d"
  },
  {
   "metadata": {
    "ExecuteTime": {
     "end_time": "2024-12-22T12:21:10.767729Z",
     "start_time": "2024-12-22T12:21:00.641752Z"
    }
   },
   "cell_type": "code",
   "source": "",
   "id": "3a4d3fdbac1f219d",
   "outputs": [],
   "execution_count": 11
  },
  {
   "metadata": {
    "ExecuteTime": {
     "end_time": "2024-12-22T12:47:08.651843Z",
     "start_time": "2024-12-22T12:47:08.554848Z"
    }
   },
   "cell_type": "code",
   "source": "",
   "id": "ad7203e3274712",
   "outputs": [],
   "execution_count": 18
  },
  {
   "metadata": {
    "ExecuteTime": {
     "end_time": "2024-12-22T13:25:47.624807Z",
     "start_time": "2024-12-22T12:52:55.465853Z"
    }
   },
   "cell_type": "code",
   "source": [
    "clusters_sick_gkmeans, labels_sick_gkmeans = run_global_kmeans(X_sick_kpca_df, max_clusters=12, distance='euclidean')\n",
    "clusters_vowel_gkmeans, labels_vowel_gkmeans = run_global_kmeans(X_vowel_kpca_df, max_clusters=12, distance='euclidean')"
   ],
   "id": "94f9b6bbe6f7afad",
   "outputs": [
    {
     "ename": "ValueError",
     "evalue": "too many values to unpack (expected 2)",
     "output_type": "error",
     "traceback": [
      "\u001B[1;31m---------------------------------------------------------------------------\u001B[0m",
      "\u001B[1;31mValueError\u001B[0m                                Traceback (most recent call last)",
      "Cell \u001B[1;32mIn[21], line 1\u001B[0m\n\u001B[1;32m----> 1\u001B[0m clusters_sick_gkmeans, labels_sick_gkmeans \u001B[38;5;241m=\u001B[39m run_global_kmeans(X_sick_kpca_df, max_clusters\u001B[38;5;241m=\u001B[39m\u001B[38;5;241m12\u001B[39m, distance\u001B[38;5;241m=\u001B[39m\u001B[38;5;124m'\u001B[39m\u001B[38;5;124meuclidean\u001B[39m\u001B[38;5;124m'\u001B[39m)\n\u001B[0;32m      2\u001B[0m clusters_vowel_gkmeans, labels_vowel_gkmeans \u001B[38;5;241m=\u001B[39m run_global_kmeans(X_vowel_kpca_df, max_clusters\u001B[38;5;241m=\u001B[39m\u001B[38;5;241m12\u001B[39m, distance\u001B[38;5;241m=\u001B[39m\u001B[38;5;124m'\u001B[39m\u001B[38;5;124meuclidean\u001B[39m\u001B[38;5;124m'\u001B[39m)\n",
      "\u001B[1;31mValueError\u001B[0m: too many values to unpack (expected 2)"
     ]
    }
   ],
   "execution_count": 21
  },
  {
   "metadata": {
    "ExecuteTime": {
     "end_time": "2024-12-22T12:46:00.673286Z",
     "start_time": "2024-12-22T12:46:00.346591Z"
    }
   },
   "cell_type": "code",
   "source": "from optics import apply_optics",
   "id": "6b73ee43b5db1e0f",
   "outputs": [],
   "execution_count": 15
  },
  {
   "metadata": {
    "ExecuteTime": {
     "end_time": "2024-12-22T12:47:14.390412Z",
     "start_time": "2024-12-22T12:47:10.407439Z"
    }
   },
   "cell_type": "code",
   "source": "clusters_optics_sick = apply_optics(X_sick_kpca_df, metric='manhattan', algorithm='ball_tree', min_samples=15)",
   "id": "a5b896ec25b64d48",
   "outputs": [],
   "execution_count": 19
  },
  {
   "metadata": {
    "ExecuteTime": {
     "end_time": "2024-12-22T12:47:15.981959Z",
     "start_time": "2024-12-22T12:47:15.039670Z"
    }
   },
   "cell_type": "code",
   "source": "clusters_optics_vowel = apply_optics(X_vowel_kpca_df,metric='manhattan', algorithm='ball_tree', min_samples=15)",
   "id": "9aeb7f8cc723fdc6",
   "outputs": [],
   "execution_count": 20
  },
  {
   "metadata": {},
   "cell_type": "code",
   "outputs": [],
   "execution_count": null,
   "source": "",
   "id": "bce53d2300ec4652"
  }
 ],
 "metadata": {
  "kernelspec": {
   "display_name": "Python 3",
   "language": "python",
   "name": "python3"
  },
  "language_info": {
   "codemirror_mode": {
    "name": "ipython",
    "version": 2
   },
   "file_extension": ".py",
   "mimetype": "text/x-python",
   "name": "python",
   "nbconvert_exporter": "python",
   "pygments_lexer": "ipython2",
   "version": "2.7.6"
  }
 },
 "nbformat": 4,
 "nbformat_minor": 5
}
