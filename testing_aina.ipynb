{
 "cells": [
  {
   "metadata": {},
   "cell_type": "markdown",
   "source": "Using sklearn's jernel PCA to reduce dimensionality ",
   "id": "fb6f553635d6c898"
  },
  {
   "cell_type": "code",
   "id": "initial_id",
   "metadata": {
    "collapsed": true,
    "ExecuteTime": {
     "end_time": "2024-12-21T20:32:05.993663Z",
     "start_time": "2024-12-21T20:32:05.884379Z"
    }
   },
   "source": [
    "%load_ext autoreload\n",
    "%autoreload 2"
   ],
   "outputs": [
    {
     "name": "stdout",
     "output_type": "stream",
     "text": [
      "The autoreload extension is already loaded. To reload it, use:\n",
      "  %reload_ext autoreload\n"
     ]
    }
   ],
   "execution_count": 25
  },
  {
   "metadata": {
    "ExecuteTime": {
     "end_time": "2024-12-21T20:32:44.976149Z",
     "start_time": "2024-12-21T20:32:44.846608Z"
    }
   },
   "cell_type": "code",
   "source": "%cd code",
   "id": "9d9c5e72c7f78f7a",
   "outputs": [
    {
     "name": "stdout",
     "output_type": "stream",
     "text": [
      "C:\\Users\\ainal\\OneDrive\\Escritorio\\IML\\Dimensionality-Reduction-and-Visualization\n"
     ]
    }
   ],
   "execution_count": 28
  },
  {
   "metadata": {
    "ExecuteTime": {
     "end_time": "2024-12-21T20:32:48.694549Z",
     "start_time": "2024-12-21T20:32:48.618721Z"
    }
   },
   "cell_type": "code",
   "source": [
    "import pandas as pd \n",
    "import numpy as np\n",
    "from sklearn.decomposition import KernelPCA"
   ],
   "id": "a0ca12a8fc5b2c55",
   "outputs": [],
   "execution_count": 29
  },
  {
   "metadata": {
    "ExecuteTime": {
     "end_time": "2024-12-21T20:32:51.281429Z",
     "start_time": "2024-12-21T20:32:50.504058Z"
    }
   },
   "cell_type": "code",
   "source": "from code.preprocessing import get_dataset",
   "id": "d87ca55b63438d92",
   "outputs": [
    {
     "ename": "AttributeError",
     "evalue": "`np.infty` was removed in the NumPy 2.0 release. Use `np.inf` instead.",
     "output_type": "error",
     "traceback": [
      "\u001B[1;31m---------------------------------------------------------------------------\u001B[0m",
      "\u001B[1;31mAttributeError\u001B[0m                            Traceback (most recent call last)",
      "Cell \u001B[1;32mIn[30], line 1\u001B[0m\n\u001B[1;32m----> 1\u001B[0m \u001B[38;5;28;01mfrom\u001B[39;00m \u001B[38;5;21;01mcode\u001B[39;00m\u001B[38;5;21;01m.\u001B[39;00m\u001B[38;5;21;01mpreprocessing\u001B[39;00m \u001B[38;5;28;01mimport\u001B[39;00m get_dataset\n",
      "File \u001B[1;32m~\\OneDrive\\Escritorio\\IML\\Dimensionality-Reduction-and-Visualization\\code\\preprocessing.py:4\u001B[0m\n\u001B[0;32m      1\u001B[0m \u001B[38;5;28;01mfrom\u001B[39;00m \u001B[38;5;21;01mscipy\u001B[39;00m\u001B[38;5;21;01m.\u001B[39;00m\u001B[38;5;21;01mio\u001B[39;00m\u001B[38;5;21;01m.\u001B[39;00m\u001B[38;5;21;01marff\u001B[39;00m \u001B[38;5;28;01mimport\u001B[39;00m loadarff\n\u001B[0;32m      2\u001B[0m \u001B[38;5;28;01mimport\u001B[39;00m \u001B[38;5;21;01mpandas\u001B[39;00m \u001B[38;5;28;01mas\u001B[39;00m \u001B[38;5;21;01mpd\u001B[39;00m\n\u001B[1;32m----> 4\u001B[0m \u001B[38;5;28;01mfrom\u001B[39;00m \u001B[38;5;21;01mcode\u001B[39;00m\u001B[38;5;21;01m.\u001B[39;00m\u001B[38;5;21;01mutils\u001B[39;00m \u001B[38;5;28;01mimport\u001B[39;00m drop_rows_sick, drop_columns, min_max_scaler, one_hot_encoding, label_encoder, binary_encoding, fill_nans\n\u001B[0;32m      6\u001B[0m \u001B[38;5;28;01mdef\u001B[39;00m \u001B[38;5;21mget_dataset\u001B[39m(dataset):\n\u001B[0;32m      7\u001B[0m     \u001B[38;5;28;01mif\u001B[39;00m dataset \u001B[38;5;241m==\u001B[39m \u001B[38;5;124m\"\u001B[39m\u001B[38;5;124msick\u001B[39m\u001B[38;5;124m\"\u001B[39m:\n",
      "File \u001B[1;32m~\\OneDrive\\Escritorio\\IML\\Dimensionality-Reduction-and-Visualization\\code\\utils.py:13\u001B[0m\n\u001B[0;32m      9\u001B[0m \u001B[38;5;28;01mimport\u001B[39;00m \u001B[38;5;21;01mnumpy\u001B[39;00m \u001B[38;5;28;01mas\u001B[39;00m \u001B[38;5;21;01mnp\u001B[39;00m\n\u001B[0;32m     11\u001B[0m \u001B[38;5;28;01mimport\u001B[39;00m \u001B[38;5;21;01mmatplotlib\u001B[39;00m\u001B[38;5;21;01m.\u001B[39;00m\u001B[38;5;21;01mpyplot\u001B[39;00m \u001B[38;5;28;01mas\u001B[39;00m \u001B[38;5;21;01mplt\u001B[39;00m\n\u001B[1;32m---> 13\u001B[0m \u001B[38;5;28;01mimport\u001B[39;00m \u001B[38;5;21;01mumap\u001B[39;00m\u001B[38;5;21;01m.\u001B[39;00m\u001B[38;5;21;01mumap_\u001B[39;00m \u001B[38;5;28;01mas\u001B[39;00m \u001B[38;5;21;01mumap\u001B[39;00m\n\u001B[0;32m     15\u001B[0m \u001B[38;5;66;03m### PREPROCESSING\u001B[39;00m\n\u001B[0;32m     17\u001B[0m \u001B[38;5;28;01mdef\u001B[39;00m \u001B[38;5;21mdrop_columns\u001B[39m(df, column_names):\n",
      "File \u001B[1;32m~\\anaconda3\\envs\\iml\\lib\\site-packages\\umap\\__init__.py:2\u001B[0m\n\u001B[0;32m      1\u001B[0m \u001B[38;5;28;01mfrom\u001B[39;00m \u001B[38;5;21;01mwarnings\u001B[39;00m \u001B[38;5;28;01mimport\u001B[39;00m warn, catch_warnings, simplefilter\n\u001B[1;32m----> 2\u001B[0m \u001B[38;5;28;01mfrom\u001B[39;00m \u001B[38;5;21;01m.\u001B[39;00m\u001B[38;5;21;01mumap_\u001B[39;00m \u001B[38;5;28;01mimport\u001B[39;00m UMAP\n\u001B[0;32m      4\u001B[0m \u001B[38;5;28;01mtry\u001B[39;00m:\n\u001B[0;32m      5\u001B[0m     \u001B[38;5;28;01mwith\u001B[39;00m catch_warnings():\n",
      "File \u001B[1;32m~\\anaconda3\\envs\\iml\\lib\\site-packages\\umap\\umap_.py:48\u001B[0m\n\u001B[0;32m     41\u001B[0m \u001B[38;5;28;01mfrom\u001B[39;00m \u001B[38;5;21;01mumap\u001B[39;00m\u001B[38;5;21;01m.\u001B[39;00m\u001B[38;5;21;01mspectral\u001B[39;00m \u001B[38;5;28;01mimport\u001B[39;00m spectral_layout, tswspectral_layout\n\u001B[0;32m     42\u001B[0m \u001B[38;5;28;01mfrom\u001B[39;00m \u001B[38;5;21;01mumap\u001B[39;00m\u001B[38;5;21;01m.\u001B[39;00m\u001B[38;5;21;01mlayouts\u001B[39;00m \u001B[38;5;28;01mimport\u001B[39;00m (\n\u001B[0;32m     43\u001B[0m     optimize_layout_euclidean,\n\u001B[0;32m     44\u001B[0m     optimize_layout_generic,\n\u001B[0;32m     45\u001B[0m     optimize_layout_inverse,\n\u001B[0;32m     46\u001B[0m )\n\u001B[1;32m---> 48\u001B[0m \u001B[38;5;28;01mfrom\u001B[39;00m \u001B[38;5;21;01mpynndescent\u001B[39;00m \u001B[38;5;28;01mimport\u001B[39;00m NNDescent\n\u001B[0;32m     49\u001B[0m \u001B[38;5;28;01mfrom\u001B[39;00m \u001B[38;5;21;01mpynndescent\u001B[39;00m\u001B[38;5;21;01m.\u001B[39;00m\u001B[38;5;21;01mdistances\u001B[39;00m \u001B[38;5;28;01mimport\u001B[39;00m named_distances \u001B[38;5;28;01mas\u001B[39;00m pynn_named_distances\n\u001B[0;32m     50\u001B[0m \u001B[38;5;28;01mfrom\u001B[39;00m \u001B[38;5;21;01mpynndescent\u001B[39;00m\u001B[38;5;21;01m.\u001B[39;00m\u001B[38;5;21;01msparse\u001B[39;00m \u001B[38;5;28;01mimport\u001B[39;00m sparse_named_distances \u001B[38;5;28;01mas\u001B[39;00m pynn_sparse_named_distances\n",
      "File \u001B[1;32m~\\anaconda3\\envs\\iml\\lib\\site-packages\\pynndescent\\__init__.py:5\u001B[0m\n\u001B[0;32m      1\u001B[0m \u001B[38;5;28;01mimport\u001B[39;00m \u001B[38;5;21;01msys\u001B[39;00m\n\u001B[0;32m      3\u001B[0m \u001B[38;5;28;01mimport\u001B[39;00m \u001B[38;5;21;01mnumba\u001B[39;00m\n\u001B[1;32m----> 5\u001B[0m \u001B[38;5;28;01mfrom\u001B[39;00m \u001B[38;5;21;01m.\u001B[39;00m\u001B[38;5;21;01mpynndescent_\u001B[39;00m \u001B[38;5;28;01mimport\u001B[39;00m NNDescent, PyNNDescentTransformer\n\u001B[0;32m      7\u001B[0m \u001B[38;5;28;01mif\u001B[39;00m sys\u001B[38;5;241m.\u001B[39mversion_info[:\u001B[38;5;241m2\u001B[39m] \u001B[38;5;241m>\u001B[39m\u001B[38;5;241m=\u001B[39m (\u001B[38;5;241m3\u001B[39m, \u001B[38;5;241m8\u001B[39m):\n\u001B[0;32m      8\u001B[0m     \u001B[38;5;28;01mimport\u001B[39;00m \u001B[38;5;21;01mimportlib\u001B[39;00m\u001B[38;5;21;01m.\u001B[39;00m\u001B[38;5;21;01mmetadata\u001B[39;00m \u001B[38;5;28;01mas\u001B[39;00m \u001B[38;5;21;01mimportlib_metadata\u001B[39;00m\n",
      "File \u001B[1;32m~\\anaconda3\\envs\\iml\\lib\\site-packages\\pynndescent\\pynndescent_.py:23\u001B[0m\n\u001B[0;32m     20\u001B[0m \u001B[38;5;28;01mimport\u001B[39;00m \u001B[38;5;21;01mheapq\u001B[39;00m\n\u001B[0;32m     22\u001B[0m \u001B[38;5;28;01mimport\u001B[39;00m \u001B[38;5;21;01mpynndescent\u001B[39;00m\u001B[38;5;21;01m.\u001B[39;00m\u001B[38;5;21;01msparse\u001B[39;00m \u001B[38;5;28;01mas\u001B[39;00m \u001B[38;5;21;01msparse\u001B[39;00m\n\u001B[1;32m---> 23\u001B[0m \u001B[38;5;28;01mimport\u001B[39;00m \u001B[38;5;21;01mpynndescent\u001B[39;00m\u001B[38;5;21;01m.\u001B[39;00m\u001B[38;5;21;01msparse_nndescent\u001B[39;00m \u001B[38;5;28;01mas\u001B[39;00m \u001B[38;5;21;01msparse_nnd\u001B[39;00m\n\u001B[0;32m     24\u001B[0m \u001B[38;5;28;01mimport\u001B[39;00m \u001B[38;5;21;01mpynndescent\u001B[39;00m\u001B[38;5;21;01m.\u001B[39;00m\u001B[38;5;21;01mdistances\u001B[39;00m \u001B[38;5;28;01mas\u001B[39;00m \u001B[38;5;21;01mpynnd_dist\u001B[39;00m\n\u001B[0;32m     26\u001B[0m \u001B[38;5;28;01mfrom\u001B[39;00m \u001B[38;5;21;01mpynndescent\u001B[39;00m\u001B[38;5;21;01m.\u001B[39;00m\u001B[38;5;21;01mutils\u001B[39;00m \u001B[38;5;28;01mimport\u001B[39;00m (\n\u001B[0;32m     27\u001B[0m     tau_rand_int,\n\u001B[0;32m     28\u001B[0m     tau_rand,\n\u001B[1;32m   (...)\u001B[0m\n\u001B[0;32m     41\u001B[0m     sparse_initalize_heap_from_graph_indices,\n\u001B[0;32m     42\u001B[0m )\n",
      "File \u001B[1;32m~\\anaconda3\\envs\\iml\\lib\\site-packages\\pynndescent\\sparse_nndescent.py:24\u001B[0m\n\u001B[0;32m     20\u001B[0m \u001B[38;5;28;01mfrom\u001B[39;00m \u001B[38;5;21;01mpynndescent\u001B[39;00m\u001B[38;5;21;01m.\u001B[39;00m\u001B[38;5;21;01msparse\u001B[39;00m \u001B[38;5;28;01mimport\u001B[39;00m sparse_euclidean\n\u001B[0;32m     22\u001B[0m locale\u001B[38;5;241m.\u001B[39msetlocale(locale\u001B[38;5;241m.\u001B[39mLC_NUMERIC, \u001B[38;5;124m\"\u001B[39m\u001B[38;5;124mC\u001B[39m\u001B[38;5;124m\"\u001B[39m)\n\u001B[1;32m---> 24\u001B[0m EMPTY_GRAPH \u001B[38;5;241m=\u001B[39m \u001B[43mmake_heap\u001B[49m\u001B[43m(\u001B[49m\u001B[38;5;241;43m1\u001B[39;49m\u001B[43m,\u001B[49m\u001B[43m \u001B[49m\u001B[38;5;241;43m1\u001B[39;49m\u001B[43m)\u001B[49m\n\u001B[0;32m     27\u001B[0m \u001B[38;5;129m@numba\u001B[39m\u001B[38;5;241m.\u001B[39mnjit(parallel\u001B[38;5;241m=\u001B[39m\u001B[38;5;28;01mTrue\u001B[39;00m, cache\u001B[38;5;241m=\u001B[39m\u001B[38;5;28;01mFalse\u001B[39;00m)\n\u001B[0;32m     28\u001B[0m \u001B[38;5;28;01mdef\u001B[39;00m \u001B[38;5;21mgenerate_leaf_updates\u001B[39m(leaf_block, dist_thresholds, inds, indptr, data, dist):\n\u001B[0;32m     30\u001B[0m     updates \u001B[38;5;241m=\u001B[39m [[(\u001B[38;5;241m-\u001B[39m\u001B[38;5;241m1\u001B[39m, \u001B[38;5;241m-\u001B[39m\u001B[38;5;241m1\u001B[39m, np\u001B[38;5;241m.\u001B[39minf)] \u001B[38;5;28;01mfor\u001B[39;00m i \u001B[38;5;129;01min\u001B[39;00m \u001B[38;5;28mrange\u001B[39m(leaf_block\u001B[38;5;241m.\u001B[39mshape[\u001B[38;5;241m0\u001B[39m])]\n",
      "File \u001B[1;32m~\\anaconda3\\envs\\iml\\lib\\site-packages\\numba\\core\\dispatcher.py:442\u001B[0m, in \u001B[0;36m_DispatcherBase._compile_for_args\u001B[1;34m(self, *args, **kws)\u001B[0m\n\u001B[0;32m    440\u001B[0m             e\u001B[38;5;241m.\u001B[39mpatch_message(\u001B[38;5;124m'\u001B[39m\u001B[38;5;130;01m\\n\u001B[39;00m\u001B[38;5;124m'\u001B[39m\u001B[38;5;241m.\u001B[39mjoin((\u001B[38;5;28mstr\u001B[39m(e)\u001B[38;5;241m.\u001B[39mrstrip(), help_msg)))\n\u001B[0;32m    441\u001B[0m     \u001B[38;5;66;03m# ignore the FULL_TRACEBACKS config, this needs reporting!\u001B[39;00m\n\u001B[1;32m--> 442\u001B[0m     \u001B[38;5;28;01mraise\u001B[39;00m e\n\u001B[0;32m    443\u001B[0m \u001B[38;5;28;01mfinally\u001B[39;00m:\n\u001B[0;32m    444\u001B[0m     \u001B[38;5;28mself\u001B[39m\u001B[38;5;241m.\u001B[39m_types_active_call \u001B[38;5;241m=\u001B[39m []\n",
      "File \u001B[1;32m~\\anaconda3\\envs\\iml\\lib\\site-packages\\numba\\core\\dispatcher.py:375\u001B[0m, in \u001B[0;36m_DispatcherBase._compile_for_args\u001B[1;34m(self, *args, **kws)\u001B[0m\n\u001B[0;32m    373\u001B[0m return_val \u001B[38;5;241m=\u001B[39m \u001B[38;5;28;01mNone\u001B[39;00m\n\u001B[0;32m    374\u001B[0m \u001B[38;5;28;01mtry\u001B[39;00m:\n\u001B[1;32m--> 375\u001B[0m     return_val \u001B[38;5;241m=\u001B[39m \u001B[38;5;28;43mself\u001B[39;49m\u001B[38;5;241;43m.\u001B[39;49m\u001B[43mcompile\u001B[49m\u001B[43m(\u001B[49m\u001B[38;5;28;43mtuple\u001B[39;49m\u001B[43m(\u001B[49m\u001B[43margtypes\u001B[49m\u001B[43m)\u001B[49m\u001B[43m)\u001B[49m\n\u001B[0;32m    376\u001B[0m \u001B[38;5;28;01mexcept\u001B[39;00m errors\u001B[38;5;241m.\u001B[39mForceLiteralArg \u001B[38;5;28;01mas\u001B[39;00m e:\n\u001B[0;32m    377\u001B[0m     \u001B[38;5;66;03m# Received request for compiler re-entry with the list of arguments\u001B[39;00m\n\u001B[0;32m    378\u001B[0m     \u001B[38;5;66;03m# indicated by e.requested_args.\u001B[39;00m\n\u001B[0;32m    379\u001B[0m     \u001B[38;5;66;03m# First, check if any of these args are already Literal-ized\u001B[39;00m\n\u001B[0;32m    380\u001B[0m     already_lit_pos \u001B[38;5;241m=\u001B[39m [i \u001B[38;5;28;01mfor\u001B[39;00m i \u001B[38;5;129;01min\u001B[39;00m e\u001B[38;5;241m.\u001B[39mrequested_args\n\u001B[0;32m    381\u001B[0m                        \u001B[38;5;28;01mif\u001B[39;00m \u001B[38;5;28misinstance\u001B[39m(args[i], types\u001B[38;5;241m.\u001B[39mLiteral)]\n",
      "File \u001B[1;32m~\\anaconda3\\envs\\iml\\lib\\site-packages\\numba\\core\\dispatcher.py:905\u001B[0m, in \u001B[0;36mDispatcher.compile\u001B[1;34m(self, sig)\u001B[0m\n\u001B[0;32m    903\u001B[0m \u001B[38;5;28;01mwith\u001B[39;00m ev\u001B[38;5;241m.\u001B[39mtrigger_event(\u001B[38;5;124m\"\u001B[39m\u001B[38;5;124mnumba:compile\u001B[39m\u001B[38;5;124m\"\u001B[39m, data\u001B[38;5;241m=\u001B[39mev_details):\n\u001B[0;32m    904\u001B[0m     \u001B[38;5;28;01mtry\u001B[39;00m:\n\u001B[1;32m--> 905\u001B[0m         cres \u001B[38;5;241m=\u001B[39m \u001B[38;5;28;43mself\u001B[39;49m\u001B[38;5;241;43m.\u001B[39;49m\u001B[43m_compiler\u001B[49m\u001B[38;5;241;43m.\u001B[39;49m\u001B[43mcompile\u001B[49m\u001B[43m(\u001B[49m\u001B[43margs\u001B[49m\u001B[43m,\u001B[49m\u001B[43m \u001B[49m\u001B[43mreturn_type\u001B[49m\u001B[43m)\u001B[49m\n\u001B[0;32m    906\u001B[0m     \u001B[38;5;28;01mexcept\u001B[39;00m errors\u001B[38;5;241m.\u001B[39mForceLiteralArg \u001B[38;5;28;01mas\u001B[39;00m e:\n\u001B[0;32m    907\u001B[0m         \u001B[38;5;28;01mdef\u001B[39;00m \u001B[38;5;21mfolded\u001B[39m(args, kws):\n",
      "File \u001B[1;32m~\\anaconda3\\envs\\iml\\lib\\site-packages\\numba\\core\\dispatcher.py:80\u001B[0m, in \u001B[0;36m_FunctionCompiler.compile\u001B[1;34m(self, args, return_type)\u001B[0m\n\u001B[0;32m     79\u001B[0m \u001B[38;5;28;01mdef\u001B[39;00m \u001B[38;5;21mcompile\u001B[39m(\u001B[38;5;28mself\u001B[39m, args, return_type):\n\u001B[1;32m---> 80\u001B[0m     status, retval \u001B[38;5;241m=\u001B[39m \u001B[38;5;28;43mself\u001B[39;49m\u001B[38;5;241;43m.\u001B[39;49m\u001B[43m_compile_cached\u001B[49m\u001B[43m(\u001B[49m\u001B[43margs\u001B[49m\u001B[43m,\u001B[49m\u001B[43m \u001B[49m\u001B[43mreturn_type\u001B[49m\u001B[43m)\u001B[49m\n\u001B[0;32m     81\u001B[0m     \u001B[38;5;28;01mif\u001B[39;00m status:\n\u001B[0;32m     82\u001B[0m         \u001B[38;5;28;01mreturn\u001B[39;00m retval\n",
      "File \u001B[1;32m~\\anaconda3\\envs\\iml\\lib\\site-packages\\numba\\core\\dispatcher.py:94\u001B[0m, in \u001B[0;36m_FunctionCompiler._compile_cached\u001B[1;34m(self, args, return_type)\u001B[0m\n\u001B[0;32m     91\u001B[0m     \u001B[38;5;28;01mpass\u001B[39;00m\n\u001B[0;32m     93\u001B[0m \u001B[38;5;28;01mtry\u001B[39;00m:\n\u001B[1;32m---> 94\u001B[0m     retval \u001B[38;5;241m=\u001B[39m \u001B[38;5;28;43mself\u001B[39;49m\u001B[38;5;241;43m.\u001B[39;49m\u001B[43m_compile_core\u001B[49m\u001B[43m(\u001B[49m\u001B[43margs\u001B[49m\u001B[43m,\u001B[49m\u001B[43m \u001B[49m\u001B[43mreturn_type\u001B[49m\u001B[43m)\u001B[49m\n\u001B[0;32m     95\u001B[0m \u001B[38;5;28;01mexcept\u001B[39;00m errors\u001B[38;5;241m.\u001B[39mTypingError \u001B[38;5;28;01mas\u001B[39;00m e:\n\u001B[0;32m     96\u001B[0m     \u001B[38;5;28mself\u001B[39m\u001B[38;5;241m.\u001B[39m_failed_cache[key] \u001B[38;5;241m=\u001B[39m e\n",
      "File \u001B[1;32m~\\anaconda3\\envs\\iml\\lib\\site-packages\\numba\\core\\dispatcher.py:107\u001B[0m, in \u001B[0;36m_FunctionCompiler._compile_core\u001B[1;34m(self, args, return_type)\u001B[0m\n\u001B[0;32m    104\u001B[0m flags \u001B[38;5;241m=\u001B[39m \u001B[38;5;28mself\u001B[39m\u001B[38;5;241m.\u001B[39m_customize_flags(flags)\n\u001B[0;32m    106\u001B[0m impl \u001B[38;5;241m=\u001B[39m \u001B[38;5;28mself\u001B[39m\u001B[38;5;241m.\u001B[39m_get_implementation(args, {})\n\u001B[1;32m--> 107\u001B[0m cres \u001B[38;5;241m=\u001B[39m \u001B[43mcompiler\u001B[49m\u001B[38;5;241;43m.\u001B[39;49m\u001B[43mcompile_extra\u001B[49m\u001B[43m(\u001B[49m\u001B[38;5;28;43mself\u001B[39;49m\u001B[38;5;241;43m.\u001B[39;49m\u001B[43mtargetdescr\u001B[49m\u001B[38;5;241;43m.\u001B[39;49m\u001B[43mtyping_context\u001B[49m\u001B[43m,\u001B[49m\n\u001B[0;32m    108\u001B[0m \u001B[43m                              \u001B[49m\u001B[38;5;28;43mself\u001B[39;49m\u001B[38;5;241;43m.\u001B[39;49m\u001B[43mtargetdescr\u001B[49m\u001B[38;5;241;43m.\u001B[39;49m\u001B[43mtarget_context\u001B[49m\u001B[43m,\u001B[49m\n\u001B[0;32m    109\u001B[0m \u001B[43m                              \u001B[49m\u001B[43mimpl\u001B[49m\u001B[43m,\u001B[49m\n\u001B[0;32m    110\u001B[0m \u001B[43m                              \u001B[49m\u001B[43margs\u001B[49m\u001B[38;5;241;43m=\u001B[39;49m\u001B[43margs\u001B[49m\u001B[43m,\u001B[49m\u001B[43m \u001B[49m\u001B[43mreturn_type\u001B[49m\u001B[38;5;241;43m=\u001B[39;49m\u001B[43mreturn_type\u001B[49m\u001B[43m,\u001B[49m\n\u001B[0;32m    111\u001B[0m \u001B[43m                              \u001B[49m\u001B[43mflags\u001B[49m\u001B[38;5;241;43m=\u001B[39;49m\u001B[43mflags\u001B[49m\u001B[43m,\u001B[49m\u001B[43m \u001B[49m\u001B[38;5;28;43mlocals\u001B[39;49m\u001B[38;5;241;43m=\u001B[39;49m\u001B[38;5;28;43mself\u001B[39;49m\u001B[38;5;241;43m.\u001B[39;49m\u001B[43mlocals\u001B[49m\u001B[43m,\u001B[49m\n\u001B[0;32m    112\u001B[0m \u001B[43m                              \u001B[49m\u001B[43mpipeline_class\u001B[49m\u001B[38;5;241;43m=\u001B[39;49m\u001B[38;5;28;43mself\u001B[39;49m\u001B[38;5;241;43m.\u001B[39;49m\u001B[43mpipeline_class\u001B[49m\u001B[43m)\u001B[49m\n\u001B[0;32m    113\u001B[0m \u001B[38;5;66;03m# Check typing error if object mode is used\u001B[39;00m\n\u001B[0;32m    114\u001B[0m \u001B[38;5;28;01mif\u001B[39;00m cres\u001B[38;5;241m.\u001B[39mtyping_error \u001B[38;5;129;01mis\u001B[39;00m \u001B[38;5;129;01mnot\u001B[39;00m \u001B[38;5;28;01mNone\u001B[39;00m \u001B[38;5;129;01mand\u001B[39;00m \u001B[38;5;129;01mnot\u001B[39;00m flags\u001B[38;5;241m.\u001B[39menable_pyobject:\n",
      "File \u001B[1;32m~\\anaconda3\\envs\\iml\\lib\\site-packages\\numba\\core\\compiler.py:744\u001B[0m, in \u001B[0;36mcompile_extra\u001B[1;34m(typingctx, targetctx, func, args, return_type, flags, locals, library, pipeline_class)\u001B[0m\n\u001B[0;32m    720\u001B[0m \u001B[38;5;250m\u001B[39m\u001B[38;5;124;03m\"\"\"Compiler entry point\u001B[39;00m\n\u001B[0;32m    721\u001B[0m \n\u001B[0;32m    722\u001B[0m \u001B[38;5;124;03mParameter\u001B[39;00m\n\u001B[1;32m   (...)\u001B[0m\n\u001B[0;32m    740\u001B[0m \u001B[38;5;124;03m    compiler pipeline\u001B[39;00m\n\u001B[0;32m    741\u001B[0m \u001B[38;5;124;03m\"\"\"\u001B[39;00m\n\u001B[0;32m    742\u001B[0m pipeline \u001B[38;5;241m=\u001B[39m pipeline_class(typingctx, targetctx, library,\n\u001B[0;32m    743\u001B[0m                           args, return_type, flags, \u001B[38;5;28mlocals\u001B[39m)\n\u001B[1;32m--> 744\u001B[0m \u001B[38;5;28;01mreturn\u001B[39;00m \u001B[43mpipeline\u001B[49m\u001B[38;5;241;43m.\u001B[39;49m\u001B[43mcompile_extra\u001B[49m\u001B[43m(\u001B[49m\u001B[43mfunc\u001B[49m\u001B[43m)\u001B[49m\n",
      "File \u001B[1;32m~\\anaconda3\\envs\\iml\\lib\\site-packages\\numba\\core\\compiler.py:438\u001B[0m, in \u001B[0;36mCompilerBase.compile_extra\u001B[1;34m(self, func)\u001B[0m\n\u001B[0;32m    436\u001B[0m \u001B[38;5;28mself\u001B[39m\u001B[38;5;241m.\u001B[39mstate\u001B[38;5;241m.\u001B[39mlifted \u001B[38;5;241m=\u001B[39m ()\n\u001B[0;32m    437\u001B[0m \u001B[38;5;28mself\u001B[39m\u001B[38;5;241m.\u001B[39mstate\u001B[38;5;241m.\u001B[39mlifted_from \u001B[38;5;241m=\u001B[39m \u001B[38;5;28;01mNone\u001B[39;00m\n\u001B[1;32m--> 438\u001B[0m \u001B[38;5;28;01mreturn\u001B[39;00m \u001B[38;5;28;43mself\u001B[39;49m\u001B[38;5;241;43m.\u001B[39;49m\u001B[43m_compile_bytecode\u001B[49m\u001B[43m(\u001B[49m\u001B[43m)\u001B[49m\n",
      "File \u001B[1;32m~\\anaconda3\\envs\\iml\\lib\\site-packages\\numba\\core\\compiler.py:506\u001B[0m, in \u001B[0;36mCompilerBase._compile_bytecode\u001B[1;34m(self)\u001B[0m\n\u001B[0;32m    502\u001B[0m \u001B[38;5;250m\u001B[39m\u001B[38;5;124;03m\"\"\"\u001B[39;00m\n\u001B[0;32m    503\u001B[0m \u001B[38;5;124;03mPopulate and run pipeline for bytecode input\u001B[39;00m\n\u001B[0;32m    504\u001B[0m \u001B[38;5;124;03m\"\"\"\u001B[39;00m\n\u001B[0;32m    505\u001B[0m \u001B[38;5;28;01massert\u001B[39;00m \u001B[38;5;28mself\u001B[39m\u001B[38;5;241m.\u001B[39mstate\u001B[38;5;241m.\u001B[39mfunc_ir \u001B[38;5;129;01mis\u001B[39;00m \u001B[38;5;28;01mNone\u001B[39;00m\n\u001B[1;32m--> 506\u001B[0m \u001B[38;5;28;01mreturn\u001B[39;00m \u001B[38;5;28;43mself\u001B[39;49m\u001B[38;5;241;43m.\u001B[39;49m\u001B[43m_compile_core\u001B[49m\u001B[43m(\u001B[49m\u001B[43m)\u001B[49m\n",
      "File \u001B[1;32m~\\anaconda3\\envs\\iml\\lib\\site-packages\\numba\\core\\compiler.py:481\u001B[0m, in \u001B[0;36mCompilerBase._compile_core\u001B[1;34m(self)\u001B[0m\n\u001B[0;32m    478\u001B[0m \u001B[38;5;28;01mexcept\u001B[39;00m \u001B[38;5;167;01mException\u001B[39;00m \u001B[38;5;28;01mas\u001B[39;00m e:\n\u001B[0;32m    479\u001B[0m     \u001B[38;5;28;01mif\u001B[39;00m (utils\u001B[38;5;241m.\u001B[39muse_new_style_errors() \u001B[38;5;129;01mand\u001B[39;00m \u001B[38;5;129;01mnot\u001B[39;00m\n\u001B[0;32m    480\u001B[0m             \u001B[38;5;28misinstance\u001B[39m(e, errors\u001B[38;5;241m.\u001B[39mNumbaError)):\n\u001B[1;32m--> 481\u001B[0m         \u001B[38;5;28;01mraise\u001B[39;00m e\n\u001B[0;32m    483\u001B[0m     \u001B[38;5;28mself\u001B[39m\u001B[38;5;241m.\u001B[39mstate\u001B[38;5;241m.\u001B[39mstatus\u001B[38;5;241m.\u001B[39mfail_reason \u001B[38;5;241m=\u001B[39m e\n\u001B[0;32m    484\u001B[0m     \u001B[38;5;28;01mif\u001B[39;00m is_final_pipeline:\n",
      "File \u001B[1;32m~\\anaconda3\\envs\\iml\\lib\\site-packages\\numba\\core\\compiler.py:472\u001B[0m, in \u001B[0;36mCompilerBase._compile_core\u001B[1;34m(self)\u001B[0m\n\u001B[0;32m    470\u001B[0m res \u001B[38;5;241m=\u001B[39m \u001B[38;5;28;01mNone\u001B[39;00m\n\u001B[0;32m    471\u001B[0m \u001B[38;5;28;01mtry\u001B[39;00m:\n\u001B[1;32m--> 472\u001B[0m     \u001B[43mpm\u001B[49m\u001B[38;5;241;43m.\u001B[39;49m\u001B[43mrun\u001B[49m\u001B[43m(\u001B[49m\u001B[38;5;28;43mself\u001B[39;49m\u001B[38;5;241;43m.\u001B[39;49m\u001B[43mstate\u001B[49m\u001B[43m)\u001B[49m\n\u001B[0;32m    473\u001B[0m     \u001B[38;5;28;01mif\u001B[39;00m \u001B[38;5;28mself\u001B[39m\u001B[38;5;241m.\u001B[39mstate\u001B[38;5;241m.\u001B[39mcr \u001B[38;5;129;01mis\u001B[39;00m \u001B[38;5;129;01mnot\u001B[39;00m \u001B[38;5;28;01mNone\u001B[39;00m:\n\u001B[0;32m    474\u001B[0m         \u001B[38;5;28;01mbreak\u001B[39;00m\n",
      "File \u001B[1;32m~\\anaconda3\\envs\\iml\\lib\\site-packages\\numba\\core\\compiler_machinery.py:364\u001B[0m, in \u001B[0;36mPassManager.run\u001B[1;34m(self, state)\u001B[0m\n\u001B[0;32m    361\u001B[0m \u001B[38;5;28;01mexcept\u001B[39;00m \u001B[38;5;167;01mException\u001B[39;00m \u001B[38;5;28;01mas\u001B[39;00m e:\n\u001B[0;32m    362\u001B[0m     \u001B[38;5;28;01mif\u001B[39;00m (utils\u001B[38;5;241m.\u001B[39muse_new_style_errors() \u001B[38;5;129;01mand\u001B[39;00m \u001B[38;5;129;01mnot\u001B[39;00m\n\u001B[0;32m    363\u001B[0m             \u001B[38;5;28misinstance\u001B[39m(e, errors\u001B[38;5;241m.\u001B[39mNumbaError)):\n\u001B[1;32m--> 364\u001B[0m         \u001B[38;5;28;01mraise\u001B[39;00m e\n\u001B[0;32m    365\u001B[0m     msg \u001B[38;5;241m=\u001B[39m \u001B[38;5;124m\"\u001B[39m\u001B[38;5;124mFailed in \u001B[39m\u001B[38;5;132;01m%s\u001B[39;00m\u001B[38;5;124m mode pipeline (step: \u001B[39m\u001B[38;5;132;01m%s\u001B[39;00m\u001B[38;5;124m)\u001B[39m\u001B[38;5;124m\"\u001B[39m \u001B[38;5;241m%\u001B[39m \\\n\u001B[0;32m    366\u001B[0m         (\u001B[38;5;28mself\u001B[39m\u001B[38;5;241m.\u001B[39mpipeline_name, pass_desc)\n\u001B[0;32m    367\u001B[0m     patched_exception \u001B[38;5;241m=\u001B[39m \u001B[38;5;28mself\u001B[39m\u001B[38;5;241m.\u001B[39m_patch_error(msg, e)\n",
      "File \u001B[1;32m~\\anaconda3\\envs\\iml\\lib\\site-packages\\numba\\core\\compiler_machinery.py:356\u001B[0m, in \u001B[0;36mPassManager.run\u001B[1;34m(self, state)\u001B[0m\n\u001B[0;32m    354\u001B[0m pass_inst \u001B[38;5;241m=\u001B[39m _pass_registry\u001B[38;5;241m.\u001B[39mget(pss)\u001B[38;5;241m.\u001B[39mpass_inst\n\u001B[0;32m    355\u001B[0m \u001B[38;5;28;01mif\u001B[39;00m \u001B[38;5;28misinstance\u001B[39m(pass_inst, CompilerPass):\n\u001B[1;32m--> 356\u001B[0m     \u001B[38;5;28;43mself\u001B[39;49m\u001B[38;5;241;43m.\u001B[39;49m\u001B[43m_runPass\u001B[49m\u001B[43m(\u001B[49m\u001B[43midx\u001B[49m\u001B[43m,\u001B[49m\u001B[43m \u001B[49m\u001B[43mpass_inst\u001B[49m\u001B[43m,\u001B[49m\u001B[43m \u001B[49m\u001B[43mstate\u001B[49m\u001B[43m)\u001B[49m\n\u001B[0;32m    357\u001B[0m \u001B[38;5;28;01melse\u001B[39;00m:\n\u001B[0;32m    358\u001B[0m     \u001B[38;5;28;01mraise\u001B[39;00m \u001B[38;5;167;01mBaseException\u001B[39;00m(\u001B[38;5;124m\"\u001B[39m\u001B[38;5;124mLegacy pass in use\u001B[39m\u001B[38;5;124m\"\u001B[39m)\n",
      "File \u001B[1;32m~\\anaconda3\\envs\\iml\\lib\\site-packages\\numba\\core\\compiler_lock.py:35\u001B[0m, in \u001B[0;36m_CompilerLock.__call__.<locals>._acquire_compile_lock\u001B[1;34m(*args, **kwargs)\u001B[0m\n\u001B[0;32m     32\u001B[0m \u001B[38;5;129m@functools\u001B[39m\u001B[38;5;241m.\u001B[39mwraps(func)\n\u001B[0;32m     33\u001B[0m \u001B[38;5;28;01mdef\u001B[39;00m \u001B[38;5;21m_acquire_compile_lock\u001B[39m(\u001B[38;5;241m*\u001B[39margs, \u001B[38;5;241m*\u001B[39m\u001B[38;5;241m*\u001B[39mkwargs):\n\u001B[0;32m     34\u001B[0m     \u001B[38;5;28;01mwith\u001B[39;00m \u001B[38;5;28mself\u001B[39m:\n\u001B[1;32m---> 35\u001B[0m         \u001B[38;5;28;01mreturn\u001B[39;00m func(\u001B[38;5;241m*\u001B[39margs, \u001B[38;5;241m*\u001B[39m\u001B[38;5;241m*\u001B[39mkwargs)\n",
      "File \u001B[1;32m~\\anaconda3\\envs\\iml\\lib\\site-packages\\numba\\core\\compiler_machinery.py:311\u001B[0m, in \u001B[0;36mPassManager._runPass\u001B[1;34m(self, index, pss, internal_state)\u001B[0m\n\u001B[0;32m    309\u001B[0m     mutated \u001B[38;5;241m|\u001B[39m\u001B[38;5;241m=\u001B[39m check(pss\u001B[38;5;241m.\u001B[39mrun_initialization, internal_state)\n\u001B[0;32m    310\u001B[0m \u001B[38;5;28;01mwith\u001B[39;00m SimpleTimer() \u001B[38;5;28;01mas\u001B[39;00m pass_time:\n\u001B[1;32m--> 311\u001B[0m     mutated \u001B[38;5;241m|\u001B[39m\u001B[38;5;241m=\u001B[39m \u001B[43mcheck\u001B[49m\u001B[43m(\u001B[49m\u001B[43mpss\u001B[49m\u001B[38;5;241;43m.\u001B[39;49m\u001B[43mrun_pass\u001B[49m\u001B[43m,\u001B[49m\u001B[43m \u001B[49m\u001B[43minternal_state\u001B[49m\u001B[43m)\u001B[49m\n\u001B[0;32m    312\u001B[0m \u001B[38;5;28;01mwith\u001B[39;00m SimpleTimer() \u001B[38;5;28;01mas\u001B[39;00m finalize_time:\n\u001B[0;32m    313\u001B[0m     mutated \u001B[38;5;241m|\u001B[39m\u001B[38;5;241m=\u001B[39m check(pss\u001B[38;5;241m.\u001B[39mrun_finalizer, internal_state)\n",
      "File \u001B[1;32m~\\anaconda3\\envs\\iml\\lib\\site-packages\\numba\\core\\compiler_machinery.py:273\u001B[0m, in \u001B[0;36mPassManager._runPass.<locals>.check\u001B[1;34m(func, compiler_state)\u001B[0m\n\u001B[0;32m    272\u001B[0m \u001B[38;5;28;01mdef\u001B[39;00m \u001B[38;5;21mcheck\u001B[39m(func, compiler_state):\n\u001B[1;32m--> 273\u001B[0m     mangled \u001B[38;5;241m=\u001B[39m \u001B[43mfunc\u001B[49m\u001B[43m(\u001B[49m\u001B[43mcompiler_state\u001B[49m\u001B[43m)\u001B[49m\n\u001B[0;32m    274\u001B[0m     \u001B[38;5;28;01mif\u001B[39;00m mangled \u001B[38;5;129;01mnot\u001B[39;00m \u001B[38;5;129;01min\u001B[39;00m (\u001B[38;5;28;01mTrue\u001B[39;00m, \u001B[38;5;28;01mFalse\u001B[39;00m):\n\u001B[0;32m    275\u001B[0m         msg \u001B[38;5;241m=\u001B[39m (\u001B[38;5;124m\"\u001B[39m\u001B[38;5;124mCompilerPass implementations should return True/False. \u001B[39m\u001B[38;5;124m\"\u001B[39m\n\u001B[0;32m    276\u001B[0m                \u001B[38;5;124m\"\u001B[39m\u001B[38;5;124mCompilerPass with name \u001B[39m\u001B[38;5;124m'\u001B[39m\u001B[38;5;132;01m%s\u001B[39;00m\u001B[38;5;124m'\u001B[39m\u001B[38;5;124m did not.\u001B[39m\u001B[38;5;124m\"\u001B[39m)\n",
      "File \u001B[1;32m~\\anaconda3\\envs\\iml\\lib\\site-packages\\numba\\core\\typed_passes.py:112\u001B[0m, in \u001B[0;36mBaseTypeInference.run_pass\u001B[1;34m(self, state)\u001B[0m\n\u001B[0;32m    106\u001B[0m \u001B[38;5;250m\u001B[39m\u001B[38;5;124;03m\"\"\"\u001B[39;00m\n\u001B[0;32m    107\u001B[0m \u001B[38;5;124;03mType inference and legalization\u001B[39;00m\n\u001B[0;32m    108\u001B[0m \u001B[38;5;124;03m\"\"\"\u001B[39;00m\n\u001B[0;32m    109\u001B[0m \u001B[38;5;28;01mwith\u001B[39;00m fallback_context(state, \u001B[38;5;124m'\u001B[39m\u001B[38;5;124mFunction \u001B[39m\u001B[38;5;124m\"\u001B[39m\u001B[38;5;132;01m%s\u001B[39;00m\u001B[38;5;124m\"\u001B[39m\u001B[38;5;124m failed type inference\u001B[39m\u001B[38;5;124m'\u001B[39m\n\u001B[0;32m    110\u001B[0m                       \u001B[38;5;241m%\u001B[39m (state\u001B[38;5;241m.\u001B[39mfunc_id\u001B[38;5;241m.\u001B[39mfunc_name,)):\n\u001B[0;32m    111\u001B[0m     \u001B[38;5;66;03m# Type inference\u001B[39;00m\n\u001B[1;32m--> 112\u001B[0m     typemap, return_type, calltypes, errs \u001B[38;5;241m=\u001B[39m \u001B[43mtype_inference_stage\u001B[49m\u001B[43m(\u001B[49m\n\u001B[0;32m    113\u001B[0m \u001B[43m        \u001B[49m\u001B[43mstate\u001B[49m\u001B[38;5;241;43m.\u001B[39;49m\u001B[43mtypingctx\u001B[49m\u001B[43m,\u001B[49m\n\u001B[0;32m    114\u001B[0m \u001B[43m        \u001B[49m\u001B[43mstate\u001B[49m\u001B[38;5;241;43m.\u001B[39;49m\u001B[43mtargetctx\u001B[49m\u001B[43m,\u001B[49m\n\u001B[0;32m    115\u001B[0m \u001B[43m        \u001B[49m\u001B[43mstate\u001B[49m\u001B[38;5;241;43m.\u001B[39;49m\u001B[43mfunc_ir\u001B[49m\u001B[43m,\u001B[49m\n\u001B[0;32m    116\u001B[0m \u001B[43m        \u001B[49m\u001B[43mstate\u001B[49m\u001B[38;5;241;43m.\u001B[39;49m\u001B[43margs\u001B[49m\u001B[43m,\u001B[49m\n\u001B[0;32m    117\u001B[0m \u001B[43m        \u001B[49m\u001B[43mstate\u001B[49m\u001B[38;5;241;43m.\u001B[39;49m\u001B[43mreturn_type\u001B[49m\u001B[43m,\u001B[49m\n\u001B[0;32m    118\u001B[0m \u001B[43m        \u001B[49m\u001B[43mstate\u001B[49m\u001B[38;5;241;43m.\u001B[39;49m\u001B[43mlocals\u001B[49m\u001B[43m,\u001B[49m\n\u001B[0;32m    119\u001B[0m \u001B[43m        \u001B[49m\u001B[43mraise_errors\u001B[49m\u001B[38;5;241;43m=\u001B[39;49m\u001B[38;5;28;43mself\u001B[39;49m\u001B[38;5;241;43m.\u001B[39;49m\u001B[43m_raise_errors\u001B[49m\u001B[43m)\u001B[49m\n\u001B[0;32m    120\u001B[0m     state\u001B[38;5;241m.\u001B[39mtypemap \u001B[38;5;241m=\u001B[39m typemap\n\u001B[0;32m    121\u001B[0m     \u001B[38;5;66;03m# save errors in case of partial typing\u001B[39;00m\n",
      "File \u001B[1;32m~\\anaconda3\\envs\\iml\\lib\\site-packages\\numba\\core\\typed_passes.py:93\u001B[0m, in \u001B[0;36mtype_inference_stage\u001B[1;34m(typingctx, targetctx, interp, args, return_type, locals, raise_errors)\u001B[0m\n\u001B[0;32m     91\u001B[0m     infer\u001B[38;5;241m.\u001B[39mbuild_constraint()\n\u001B[0;32m     92\u001B[0m     \u001B[38;5;66;03m# return errors in case of partial typing\u001B[39;00m\n\u001B[1;32m---> 93\u001B[0m     errs \u001B[38;5;241m=\u001B[39m \u001B[43minfer\u001B[49m\u001B[38;5;241;43m.\u001B[39;49m\u001B[43mpropagate\u001B[49m\u001B[43m(\u001B[49m\u001B[43mraise_errors\u001B[49m\u001B[38;5;241;43m=\u001B[39;49m\u001B[43mraise_errors\u001B[49m\u001B[43m)\u001B[49m\n\u001B[0;32m     94\u001B[0m     typemap, restype, calltypes \u001B[38;5;241m=\u001B[39m infer\u001B[38;5;241m.\u001B[39munify(raise_errors\u001B[38;5;241m=\u001B[39mraise_errors)\n\u001B[0;32m     96\u001B[0m \u001B[38;5;28;01mreturn\u001B[39;00m _TypingResults(typemap, restype, calltypes, errs)\n",
      "File \u001B[1;32m~\\anaconda3\\envs\\iml\\lib\\site-packages\\numba\\core\\typeinfer.py:1083\u001B[0m, in \u001B[0;36mTypeInferer.propagate\u001B[1;34m(self, raise_errors)\u001B[0m\n\u001B[0;32m   1080\u001B[0m oldtoken \u001B[38;5;241m=\u001B[39m newtoken\n\u001B[0;32m   1081\u001B[0m \u001B[38;5;66;03m# Errors can appear when the type set is incomplete; only\u001B[39;00m\n\u001B[0;32m   1082\u001B[0m \u001B[38;5;66;03m# raise them when there is no progress anymore.\u001B[39;00m\n\u001B[1;32m-> 1083\u001B[0m errors \u001B[38;5;241m=\u001B[39m \u001B[38;5;28;43mself\u001B[39;49m\u001B[38;5;241;43m.\u001B[39;49m\u001B[43mconstraints\u001B[49m\u001B[38;5;241;43m.\u001B[39;49m\u001B[43mpropagate\u001B[49m\u001B[43m(\u001B[49m\u001B[38;5;28;43mself\u001B[39;49m\u001B[43m)\u001B[49m\n\u001B[0;32m   1084\u001B[0m newtoken \u001B[38;5;241m=\u001B[39m \u001B[38;5;28mself\u001B[39m\u001B[38;5;241m.\u001B[39mget_state_token()\n\u001B[0;32m   1085\u001B[0m \u001B[38;5;28mself\u001B[39m\u001B[38;5;241m.\u001B[39mdebug\u001B[38;5;241m.\u001B[39mpropagate_finished()\n",
      "File \u001B[1;32m~\\anaconda3\\envs\\iml\\lib\\site-packages\\numba\\core\\typeinfer.py:182\u001B[0m, in \u001B[0;36mConstraintNetwork.propagate\u001B[1;34m(self, typeinfer)\u001B[0m\n\u001B[0;32m    180\u001B[0m     errors\u001B[38;5;241m.\u001B[39mappend(utils\u001B[38;5;241m.\u001B[39mchain_exception(new_exc, e))\n\u001B[0;32m    181\u001B[0m \u001B[38;5;28;01melif\u001B[39;00m utils\u001B[38;5;241m.\u001B[39muse_new_style_errors():\n\u001B[1;32m--> 182\u001B[0m     \u001B[38;5;28;01mraise\u001B[39;00m e\n\u001B[0;32m    183\u001B[0m \u001B[38;5;28;01melse\u001B[39;00m:\n\u001B[0;32m    184\u001B[0m     msg \u001B[38;5;241m=\u001B[39m (\u001B[38;5;124m\"\u001B[39m\u001B[38;5;124mUnknown CAPTURED_ERRORS style: \u001B[39m\u001B[38;5;124m\"\u001B[39m\n\u001B[0;32m    185\u001B[0m            \u001B[38;5;124mf\u001B[39m\u001B[38;5;124m\"\u001B[39m\u001B[38;5;124m'\u001B[39m\u001B[38;5;132;01m{\u001B[39;00mconfig\u001B[38;5;241m.\u001B[39mCAPTURED_ERRORS\u001B[38;5;132;01m}\u001B[39;00m\u001B[38;5;124m'\u001B[39m\u001B[38;5;124m.\u001B[39m\u001B[38;5;124m\"\u001B[39m)\n",
      "File \u001B[1;32m~\\anaconda3\\envs\\iml\\lib\\site-packages\\numba\\core\\typeinfer.py:160\u001B[0m, in \u001B[0;36mConstraintNetwork.propagate\u001B[1;34m(self, typeinfer)\u001B[0m\n\u001B[0;32m    157\u001B[0m \u001B[38;5;28;01mwith\u001B[39;00m typeinfer\u001B[38;5;241m.\u001B[39mwarnings\u001B[38;5;241m.\u001B[39mcatch_warnings(filename\u001B[38;5;241m=\u001B[39mloc\u001B[38;5;241m.\u001B[39mfilename,\n\u001B[0;32m    158\u001B[0m                                        lineno\u001B[38;5;241m=\u001B[39mloc\u001B[38;5;241m.\u001B[39mline):\n\u001B[0;32m    159\u001B[0m     \u001B[38;5;28;01mtry\u001B[39;00m:\n\u001B[1;32m--> 160\u001B[0m         \u001B[43mconstraint\u001B[49m\u001B[43m(\u001B[49m\u001B[43mtypeinfer\u001B[49m\u001B[43m)\u001B[49m\n\u001B[0;32m    161\u001B[0m     \u001B[38;5;28;01mexcept\u001B[39;00m ForceLiteralArg \u001B[38;5;28;01mas\u001B[39;00m e:\n\u001B[0;32m    162\u001B[0m         errors\u001B[38;5;241m.\u001B[39mappend(e)\n",
      "File \u001B[1;32m~\\anaconda3\\envs\\iml\\lib\\site-packages\\numba\\core\\typeinfer.py:725\u001B[0m, in \u001B[0;36mGetAttrConstraint.__call__\u001B[1;34m(self, typeinfer)\u001B[0m\n\u001B[0;32m    723\u001B[0m valtys \u001B[38;5;241m=\u001B[39m typevars[\u001B[38;5;28mself\u001B[39m\u001B[38;5;241m.\u001B[39mvalue\u001B[38;5;241m.\u001B[39mname]\u001B[38;5;241m.\u001B[39mget()\n\u001B[0;32m    724\u001B[0m \u001B[38;5;28;01mfor\u001B[39;00m ty \u001B[38;5;129;01min\u001B[39;00m valtys:\n\u001B[1;32m--> 725\u001B[0m     attrty \u001B[38;5;241m=\u001B[39m \u001B[43mtypeinfer\u001B[49m\u001B[38;5;241;43m.\u001B[39;49m\u001B[43mcontext\u001B[49m\u001B[38;5;241;43m.\u001B[39;49m\u001B[43mresolve_getattr\u001B[49m\u001B[43m(\u001B[49m\u001B[43mty\u001B[49m\u001B[43m,\u001B[49m\u001B[43m \u001B[49m\u001B[38;5;28;43mself\u001B[39;49m\u001B[38;5;241;43m.\u001B[39;49m\u001B[43mattr\u001B[49m\u001B[43m)\u001B[49m\n\u001B[0;32m    726\u001B[0m     \u001B[38;5;28;01mif\u001B[39;00m attrty \u001B[38;5;129;01mis\u001B[39;00m \u001B[38;5;28;01mNone\u001B[39;00m:\n\u001B[0;32m    727\u001B[0m         \u001B[38;5;28;01mraise\u001B[39;00m UntypedAttributeError(ty, \u001B[38;5;28mself\u001B[39m\u001B[38;5;241m.\u001B[39mattr,\n\u001B[0;32m    728\u001B[0m                                     loc\u001B[38;5;241m=\u001B[39m\u001B[38;5;28mself\u001B[39m\u001B[38;5;241m.\u001B[39minst\u001B[38;5;241m.\u001B[39mloc)\n",
      "File \u001B[1;32m~\\anaconda3\\envs\\iml\\lib\\site-packages\\numba\\core\\typing\\context.py:283\u001B[0m, in \u001B[0;36mBaseContext.resolve_getattr\u001B[1;34m(self, typ, attr)\u001B[0m\n\u001B[0;32m    280\u001B[0m     \u001B[38;5;28;01mreturn\u001B[39;00m out\n\u001B[0;32m    282\u001B[0m \u001B[38;5;28;01mif\u001B[39;00m \u001B[38;5;28misinstance\u001B[39m(typ, types\u001B[38;5;241m.\u001B[39mModule):\n\u001B[1;32m--> 283\u001B[0m     attrty \u001B[38;5;241m=\u001B[39m \u001B[38;5;28;43mself\u001B[39;49m\u001B[38;5;241;43m.\u001B[39;49m\u001B[43mresolve_module_constants\u001B[49m\u001B[43m(\u001B[49m\u001B[43mtyp\u001B[49m\u001B[43m,\u001B[49m\u001B[43m \u001B[49m\u001B[43mattr\u001B[49m\u001B[43m)\u001B[49m\n\u001B[0;32m    284\u001B[0m     \u001B[38;5;28;01mif\u001B[39;00m attrty \u001B[38;5;129;01mis\u001B[39;00m \u001B[38;5;129;01mnot\u001B[39;00m \u001B[38;5;28;01mNone\u001B[39;00m:\n\u001B[0;32m    285\u001B[0m         \u001B[38;5;28;01mreturn\u001B[39;00m attrty\n",
      "File \u001B[1;32m~\\anaconda3\\envs\\iml\\lib\\site-packages\\numba\\core\\typing\\context.py:348\u001B[0m, in \u001B[0;36mBaseContext.resolve_module_constants\u001B[1;34m(self, typ, attr)\u001B[0m\n\u001B[0;32m    343\u001B[0m \u001B[38;5;250m\u001B[39m\u001B[38;5;124;03m\"\"\"\u001B[39;00m\n\u001B[0;32m    344\u001B[0m \u001B[38;5;124;03mResolve module-level global constants.\u001B[39;00m\n\u001B[0;32m    345\u001B[0m \u001B[38;5;124;03mReturn None or the attribute type\u001B[39;00m\n\u001B[0;32m    346\u001B[0m \u001B[38;5;124;03m\"\"\"\u001B[39;00m\n\u001B[0;32m    347\u001B[0m \u001B[38;5;28;01massert\u001B[39;00m \u001B[38;5;28misinstance\u001B[39m(typ, types\u001B[38;5;241m.\u001B[39mModule)\n\u001B[1;32m--> 348\u001B[0m attrval \u001B[38;5;241m=\u001B[39m \u001B[38;5;28;43mgetattr\u001B[39;49m\u001B[43m(\u001B[49m\u001B[43mtyp\u001B[49m\u001B[38;5;241;43m.\u001B[39;49m\u001B[43mpymod\u001B[49m\u001B[43m,\u001B[49m\u001B[43m \u001B[49m\u001B[43mattr\u001B[49m\u001B[43m)\u001B[49m\n\u001B[0;32m    349\u001B[0m \u001B[38;5;28;01mtry\u001B[39;00m:\n\u001B[0;32m    350\u001B[0m     \u001B[38;5;28;01mreturn\u001B[39;00m \u001B[38;5;28mself\u001B[39m\u001B[38;5;241m.\u001B[39mresolve_value_type(attrval)\n",
      "File \u001B[1;32m~\\anaconda3\\envs\\iml\\lib\\site-packages\\numpy\\__init__.py:397\u001B[0m, in \u001B[0;36m__getattr__\u001B[1;34m(attr)\u001B[0m\n\u001B[0;32m    395\u001B[0m \u001B[38;5;28;01mif\u001B[39;00m \u001B[38;5;28mlen\u001B[39m(w) \u001B[38;5;241m>\u001B[39m \u001B[38;5;241m0\u001B[39m:\n\u001B[0;32m    396\u001B[0m     \u001B[38;5;28;01mfor\u001B[39;00m _wn \u001B[38;5;129;01min\u001B[39;00m w:\n\u001B[1;32m--> 397\u001B[0m         \u001B[38;5;28;01mif\u001B[39;00m _wn\u001B[38;5;241m.\u001B[39mcategory \u001B[38;5;129;01mis\u001B[39;00m exceptions\u001B[38;5;241m.\u001B[39mRankWarning:\n\u001B[0;32m    398\u001B[0m             \u001B[38;5;66;03m# Ignore other warnings, they may not be relevant (see gh-25433).\u001B[39;00m\n\u001B[0;32m    399\u001B[0m             error_message \u001B[38;5;241m=\u001B[39m \u001B[38;5;124mf\u001B[39m\u001B[38;5;124m\"\u001B[39m\u001B[38;5;132;01m{\u001B[39;00m_wn\u001B[38;5;241m.\u001B[39mcategory\u001B[38;5;241m.\u001B[39m\u001B[38;5;18m__name__\u001B[39m\u001B[38;5;132;01m}\u001B[39;00m\u001B[38;5;124m: \u001B[39m\u001B[38;5;132;01m{\u001B[39;00m\u001B[38;5;28mstr\u001B[39m(_wn\u001B[38;5;241m.\u001B[39mmessage)\u001B[38;5;132;01m}\u001B[39;00m\u001B[38;5;124m\"\u001B[39m\n\u001B[0;32m    400\u001B[0m             msg \u001B[38;5;241m=\u001B[39m (\n\u001B[0;32m    401\u001B[0m                 \u001B[38;5;124m\"\u001B[39m\u001B[38;5;124mPolyfit sanity test emitted a warning, most likely due \u001B[39m\u001B[38;5;124m\"\u001B[39m\n\u001B[0;32m    402\u001B[0m                 \u001B[38;5;124m\"\u001B[39m\u001B[38;5;124mto using a buggy Accelerate backend.\u001B[39m\u001B[38;5;124m\"\u001B[39m\n\u001B[1;32m   (...)\u001B[0m\n\u001B[0;32m    405\u001B[0m                 \u001B[38;5;124m\"\u001B[39m\u001B[38;5;130;01m\\n\u001B[39;00m\u001B[38;5;124mOtherwise report this to the vendor \u001B[39m\u001B[38;5;124m\"\u001B[39m\n\u001B[0;32m    406\u001B[0m                 \u001B[38;5;124m\"\u001B[39m\u001B[38;5;124mthat provided NumPy.\u001B[39m\u001B[38;5;130;01m\\n\u001B[39;00m\u001B[38;5;130;01m\\n\u001B[39;00m\u001B[38;5;132;01m{}\u001B[39;00m\u001B[38;5;130;01m\\n\u001B[39;00m\u001B[38;5;124m\"\u001B[39m\u001B[38;5;241m.\u001B[39mformat(error_message))\n",
      "\u001B[1;31mAttributeError\u001B[0m: `np.infty` was removed in the NumPy 2.0 release. Use `np.inf` instead."
     ]
    }
   ],
   "execution_count": 30
  },
  {
   "metadata": {
    "ExecuteTime": {
     "end_time": "2024-12-21T20:32:54.131876Z",
     "start_time": "2024-12-21T20:32:54.032429Z"
    }
   },
   "cell_type": "code",
   "source": [
    "dataset = \"vowel\"\n",
    "x, y = get_dataset(dataset)\n",
    "ds = x.copy()\n",
    "ds[\"target\"] = y"
   ],
   "id": "d505cac20d8185c7",
   "outputs": [
    {
     "ename": "NameError",
     "evalue": "name 'get_dataset' is not defined",
     "output_type": "error",
     "traceback": [
      "\u001B[1;31m---------------------------------------------------------------------------\u001B[0m",
      "\u001B[1;31mNameError\u001B[0m                                 Traceback (most recent call last)",
      "Cell \u001B[1;32mIn[31], line 2\u001B[0m\n\u001B[0;32m      1\u001B[0m dataset \u001B[38;5;241m=\u001B[39m \u001B[38;5;124m\"\u001B[39m\u001B[38;5;124mvowel\u001B[39m\u001B[38;5;124m\"\u001B[39m\n\u001B[1;32m----> 2\u001B[0m x, y \u001B[38;5;241m=\u001B[39m \u001B[43mget_dataset\u001B[49m(dataset)\n\u001B[0;32m      3\u001B[0m ds \u001B[38;5;241m=\u001B[39m x\u001B[38;5;241m.\u001B[39mcopy()\n\u001B[0;32m      4\u001B[0m ds[\u001B[38;5;124m\"\u001B[39m\u001B[38;5;124mtarget\u001B[39m\u001B[38;5;124m\"\u001B[39m] \u001B[38;5;241m=\u001B[39m y\n",
      "\u001B[1;31mNameError\u001B[0m: name 'get_dataset' is not defined"
     ]
    }
   ],
   "execution_count": 31
  },
  {
   "metadata": {
    "ExecuteTime": {
     "end_time": "2024-12-21T20:30:34.066618Z",
     "start_time": "2024-12-21T20:30:33.980541Z"
    }
   },
   "cell_type": "code",
   "source": "print(pd.__version__)",
   "id": "34fd129a87e74349",
   "outputs": [
    {
     "name": "stdout",
     "output_type": "stream",
     "text": [
      "2.2.3\n"
     ]
    }
   ],
   "execution_count": 22
  },
  {
   "metadata": {
    "ExecuteTime": {
     "end_time": "2024-12-21T20:33:18.719032Z",
     "start_time": "2024-12-21T20:33:18.597348Z"
    }
   },
   "cell_type": "code",
   "source": [
    "sick = pd.read_csv('/datasets_processed/sick.csv')\n",
    "sick_X = np.array(sick[sick.columns[:-1]])\n",
    "sick_y = np.array(sick[sick.columns[-1]])"
   ],
   "id": "e6e21a72e3f01120",
   "outputs": [
    {
     "ename": "TypeError",
     "evalue": "_refine_defaults_read() got an unexpected keyword argument 'dtype_backend'",
     "output_type": "error",
     "traceback": [
      "\u001B[1;31m---------------------------------------------------------------------------\u001B[0m",
      "\u001B[1;31mTypeError\u001B[0m                                 Traceback (most recent call last)",
      "Cell \u001B[1;32mIn[34], line 1\u001B[0m\n\u001B[1;32m----> 1\u001B[0m sick \u001B[38;5;241m=\u001B[39m \u001B[43mpd\u001B[49m\u001B[38;5;241;43m.\u001B[39;49m\u001B[43mread_csv\u001B[49m\u001B[43m(\u001B[49m\u001B[38;5;124;43m'\u001B[39;49m\u001B[38;5;124;43m/datasets_processed/sick.csv\u001B[39;49m\u001B[38;5;124;43m'\u001B[39;49m\u001B[43m)\u001B[49m\n\u001B[0;32m      2\u001B[0m sick_X \u001B[38;5;241m=\u001B[39m np\u001B[38;5;241m.\u001B[39marray(sick[sick\u001B[38;5;241m.\u001B[39mcolumns[:\u001B[38;5;241m-\u001B[39m\u001B[38;5;241m1\u001B[39m]])\n\u001B[0;32m      3\u001B[0m sick_y \u001B[38;5;241m=\u001B[39m np\u001B[38;5;241m.\u001B[39marray(sick[sick\u001B[38;5;241m.\u001B[39mcolumns[\u001B[38;5;241m-\u001B[39m\u001B[38;5;241m1\u001B[39m]])\n",
      "File \u001B[1;32m~\\anaconda3\\envs\\iml\\lib\\site-packages\\pandas\\io\\parsers\\readers.py:1013\u001B[0m, in \u001B[0;36mread_csv\u001B[1;34m(filepath_or_buffer, sep, delimiter, header, names, index_col, usecols, dtype, engine, converters, true_values, false_values, skipinitialspace, skiprows, skipfooter, nrows, na_values, keep_default_na, na_filter, verbose, skip_blank_lines, parse_dates, infer_datetime_format, keep_date_col, date_parser, date_format, dayfirst, cache_dates, iterator, chunksize, compression, thousands, decimal, lineterminator, quotechar, quoting, doublequote, escapechar, comment, encoding, encoding_errors, dialect, on_bad_lines, delim_whitespace, low_memory, memory_map, float_precision, storage_options, dtype_backend)\u001B[0m\n\u001B[0;32m    954\u001B[0m @overload\n\u001B[0;32m    955\u001B[0m def read_table(\n\u001B[0;32m    956\u001B[0m     filepath_or_buffer: FilePath | ReadCsvBuffer[bytes] | ReadCsvBuffer[str],\n\u001B[1;32m   (...)\u001B[0m\n\u001B[0;32m   1008\u001B[0m     storage_options: StorageOptions = ...,\n\u001B[0;32m   1009\u001B[0m ) -> TextFileReader:\n\u001B[0;32m   1010\u001B[0m     ...\n\u001B[1;32m-> 1013\u001B[0m # chunksize=int -> TextFileReader\n\u001B[0;32m   1014\u001B[0m @overload\n\u001B[0;32m   1015\u001B[0m def read_table(\n\u001B[0;32m   1016\u001B[0m     filepath_or_buffer: FilePath | ReadCsvBuffer[bytes] | ReadCsvBuffer[str],\n\u001B[1;32m   (...)\u001B[0m\n\u001B[0;32m   1068\u001B[0m     storage_options: StorageOptions = ...,\n\u001B[0;32m   1069\u001B[0m ) -> TextFileReader:\n\u001B[0;32m   1070\u001B[0m     ...\n",
      "\u001B[1;31mTypeError\u001B[0m: _refine_defaults_read() got an unexpected keyword argument 'dtype_backend'"
     ]
    }
   ],
   "execution_count": 34
  },
  {
   "metadata": {
    "ExecuteTime": {
     "end_time": "2024-12-21T19:58:58.549239Z",
     "start_time": "2024-12-21T19:58:58.346250Z"
    }
   },
   "cell_type": "code",
   "source": [
    "vowel = pd.read_csv('../datasets_processed/vowel.csv')\n",
    "vowel_X = np.array(vowel[vowel.columns[:-1]])\n",
    "vowel_y = np.array(vowel[vowel.columns[-1]])"
   ],
   "id": "9eee12430dbde4a3",
   "outputs": [],
   "execution_count": 9
  },
  {
   "metadata": {
    "ExecuteTime": {
     "end_time": "2024-12-21T20:03:43.352548Z",
     "start_time": "2024-12-21T20:03:34.401983Z"
    }
   },
   "cell_type": "code",
   "source": [
    "# apply Kernel PCA with default kernel (linear)\n",
    "kpca = KernelPCA( kernel='linear')\n",
    "X_sick_kpca = kpca.fit_transform(sick_X)\n",
    "X_vowel_kpca = kpca.fit_transform(vowel_X)"
   ],
   "id": "3a4d3fdbac1f219d",
   "outputs": [],
   "execution_count": 11
  },
  {
   "metadata": {},
   "cell_type": "code",
   "source": "from global_kmeans import run_global_kmeans",
   "id": "72755d5a083df0b",
   "outputs": [],
   "execution_count": null
  },
  {
   "metadata": {},
   "cell_type": "code",
   "outputs": [],
   "execution_count": null,
   "source": [
    "clusters_sick_gkmeans, labels_sick_gkmeans = run_global_kmeans(X_sick_kpca, max_clusters=12, distance='euclidean')\n",
    "clusters_vowel_gkmeans, labels_vowel_gkmeans = run_global_kmeans(X_vowel_kpca, max_clusters=12, distance='euclidean')"
   ],
   "id": "94f9b6bbe6f7afad"
  },
  {
   "metadata": {},
   "cell_type": "code",
   "outputs": [],
   "execution_count": null,
   "source": "",
   "id": "a5b896ec25b64d48"
  }
 ],
 "metadata": {
  "kernelspec": {
   "display_name": "Python 3",
   "language": "python",
   "name": "python3"
  },
  "language_info": {
   "codemirror_mode": {
    "name": "ipython",
    "version": 2
   },
   "file_extension": ".py",
   "mimetype": "text/x-python",
   "name": "python",
   "nbconvert_exporter": "python",
   "pygments_lexer": "ipython2",
   "version": "2.7.6"
  }
 },
 "nbformat": 4,
 "nbformat_minor": 5
}
